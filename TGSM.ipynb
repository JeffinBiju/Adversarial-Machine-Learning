{
  "nbformat": 4,
  "nbformat_minor": 0,
  "metadata": {
    "colab": {
      "name": "TGSM.ipynb",
      "provenance": []
    },
    "kernelspec": {
      "name": "python3",
      "display_name": "Python 3"
    },
    "language_info": {
      "name": "python"
    },
    "accelerator": "GPU"
  },
  "cells": [
    {
      "cell_type": "code",
      "execution_count": 1,
      "metadata": {
        "id": "_qo57xzI2dut"
      },
      "outputs": [],
      "source": [
        "import os\n",
        "import numpy as np\n",
        "import matplotlib\n",
        "matplotlib.use('Agg')           \n",
        "import matplotlib.pyplot as plt\n",
        "import matplotlib.gridspec as gridspec\n",
        "import tensorflow as tf\n",
        "from tensorflow import keras\n",
        "\n",
        "input_shape = (28, 28, 1)\n",
        "num_classes = 10\n",
        "VALIDATION_SPLIT = 0.1\n",
        "BATCH_SIZE = 128"
      ]
    },
    {
      "cell_type": "code",
      "source": [
        "print('\\nLoading MNIST')\n",
        "\n",
        "mnist = tf.keras.datasets.mnist\n",
        "(x_train, y_train), (x_test, y_test) = mnist.load_data()\n",
        "\n",
        "x_train = np.expand_dims(x_train, -1)\n",
        "x_train = x_train.astype(np.float32) / 255\n",
        "x_test = np.expand_dims(x_test, -1)\n",
        "x_test = x_test.astype(np.float32) / 255\n",
        "\n",
        "y_train = keras.utils.to_categorical(y_train, num_classes)\n",
        "y_test = keras.utils.to_categorical(y_test, num_classes)\n",
        "\n",
        "print('\\nSpliting data')\n",
        "\n",
        "ind = np.random.permutation(x_train.shape[0])\n",
        "x_train, y_train = x_train[ind], y_train[ind]\n",
        "n = int(x_train.shape[0] * (1-VALIDATION_SPLIT))\n",
        "x_train = x_train[:n]\n",
        "y_train = y_train[:n]\n",
        "x_val = x_train[n:]\n",
        "y_val = y_train[n:]"
      ],
      "metadata": {
        "colab": {
          "base_uri": "https://localhost:8080/"
        },
        "id": "WYvCPQtWnrN8",
        "outputId": "f3bcf4b4-07ef-4915-b0d3-f0a100110e50"
      },
      "execution_count": 2,
      "outputs": [
        {
          "output_type": "stream",
          "name": "stdout",
          "text": [
            "\n",
            "Loading MNIST\n",
            "Downloading data from https://storage.googleapis.com/tensorflow/tf-keras-datasets/mnist.npz\n",
            "11493376/11490434 [==============================] - 0s 0us/step\n",
            "11501568/11490434 [==============================] - 0s 0us/step\n",
            "\n",
            "Spliting data\n"
          ]
        }
      ]
    },
    {
      "cell_type": "code",
      "source": [
        "print('\\nConstructing model')\n",
        "def make_model(input_shape, num_classes):\n",
        "    inputs = keras.Input(shape = input_shape)\n",
        "    x = keras.layers.Conv2D(filters=32, kernel_size=(3, 3), padding='same', activation='relu')(inputs)\n",
        "    x = keras.layers.MaxPooling2D(pool_size=(2, 2), strides=2)(x)\n",
        "    x = keras.layers.Conv2D(filters=64, kernel_size=(3, 3), padding='same', activation='relu')(x)\n",
        "    x = keras.layers.MaxPooling2D(pool_size=(2, 2), strides=2)(x)\n",
        "    x = keras.layers.Flatten()(x)\n",
        "    x = keras.layers.Dense(units=128, activation='relu')(x)\n",
        "    x = keras.layers.Dropout(0.25)(x)\n",
        "    outputs = keras.layers.Dense(units=num_classes)(x)\n",
        "    #outputs = keras.layers.Activation('relu')\n",
        "    return keras.Model(inputs, outputs)"
      ],
      "metadata": {
        "colab": {
          "base_uri": "https://localhost:8080/"
        },
        "id": "6B48ngvhncrX",
        "outputId": "32b228ae-0619-41a7-b094-ebe2cd2ca94e"
      },
      "execution_count": 4,
      "outputs": [
        {
          "output_type": "stream",
          "name": "stdout",
          "text": [
            "\n",
            "Constructing model\n"
          ]
        }
      ]
    },
    {
      "cell_type": "code",
      "source": [
        "model = make_model(input_shape, num_classes)\n",
        "model.compile(optimizer=keras.optimizers.Adam(1e-3), loss=keras.losses.CategoricalCrossentropy(from_logits=True), metrics=['accuracy'])\n",
        "print('\\nTraining model')\n",
        "model.fit(x_train, y_train, batch_size=BATCH_SIZE, epochs=5, validation_data=(x_val, y_val))"
      ],
      "metadata": {
        "colab": {
          "base_uri": "https://localhost:8080/"
        },
        "id": "BV7q9_N5noET",
        "outputId": "fa782d60-66d7-4765-f473-422362e1d942"
      },
      "execution_count": 6,
      "outputs": [
        {
          "output_type": "stream",
          "name": "stdout",
          "text": [
            "\n",
            "Training model\n",
            "Epoch 1/5\n",
            "422/422 [==============================] - 13s 10ms/step - loss: 0.2393 - accuracy: 0.9282\n",
            "Epoch 2/5\n",
            "422/422 [==============================] - 4s 9ms/step - loss: 0.0640 - accuracy: 0.9804\n",
            "Epoch 3/5\n",
            "422/422 [==============================] - 4s 9ms/step - loss: 0.0459 - accuracy: 0.9854\n",
            "Epoch 4/5\n",
            "422/422 [==============================] - 6s 13ms/step - loss: 0.0353 - accuracy: 0.9891\n",
            "Epoch 5/5\n",
            "422/422 [==============================] - 6s 15ms/step - loss: 0.0289 - accuracy: 0.9906\n"
          ]
        },
        {
          "output_type": "execute_result",
          "data": {
            "text/plain": [
              "<keras.callbacks.History at 0x7ff1f064f990>"
            ]
          },
          "metadata": {},
          "execution_count": 6
        }
      ]
    },
    {
      "cell_type": "code",
      "source": [
        "def fgmt(model, x, y=None, eps=0.01, epochs=1, sign=True, clip_min=0.,\n",
        "         clip_max=1.):\n",
        "    \n",
        "    y_pred = model.predict(x)\n",
        "    target = keras.utils.to_categorical(y, num_classes)\n",
        "    if y is None:\n",
        "        indices = tf.argmin(y_pred, axis=1)\n",
        "        target = keras.utils.to_categorical(indices, num_classes)\n",
        "   \n",
        "    x_adv = tf.identity(x)\n",
        "    while epochs > 0:\n",
        "        with tf.GradientTape() as tape:\n",
        "            tape.watch(x_adv)\n",
        "            y_pred = model(x_adv)\n",
        "            loss = tf.keras.losses.CategoricalCrossentropy(from_logits=True)(target, y_pred)\n",
        "        grads = tape.gradient(loss, x_adv)\n",
        "        signed_grads = tf.sign(grads)\n",
        "        x_adv = x_adv - eps * signed_grads\n",
        "        epochs -= 1\n",
        "\n",
        "    return x_adv"
      ],
      "metadata": {
        "id": "_cjed2K7nLjh"
      },
      "execution_count": 32,
      "outputs": []
    },
    {
      "cell_type": "code",
      "source": [
        "print(y_train[0])\n",
        "print(model.predict(np.expand_dims(x_train[0], 0)))\n",
        "plt.imshow(x_train[0, :, :, 0], cmap='gray')\n",
        "x_adv = fgmt(model, np.expand_dims(x_train[0],0), [0], epochs=25)\n",
        "print(model.predict(x_adv))"
      ],
      "metadata": {
        "colab": {
          "base_uri": "https://localhost:8080/",
          "height": 350
        },
        "id": "_8xovYwZ12O8",
        "outputId": "5400bd19-ee06-44c5-cfd3-c62a5e385311"
      },
      "execution_count": 46,
      "outputs": [
        {
          "output_type": "stream",
          "name": "stdout",
          "text": [
            "[0. 1. 0. 0. 0. 0. 0. 0. 0. 0.]\n",
            "[[-5.955543   12.664874   -3.0567877  -7.318541   -1.8164984  -5.25539\n",
            "  -2.9459789  -0.23087071 -2.6473985  -4.1967387 ]]\n",
            "[[ 3.3416243  -0.22827052 -0.43889612 -3.7967114  -1.7446295  -2.563518\n",
            "  -0.4950319  -2.3405607  -0.1700378  -0.565485  ]]\n"
          ]
        },
        {
          "output_type": "display_data",
          "data": {
            "image/png": "[encoded data removed]",
            "text/plain": [
              "<Figure size 432x288 with 1 Axes>"
            ]
          },
          "metadata": {
            "needs_background": "light"
          }
        }
      ]
    }
  ]
}