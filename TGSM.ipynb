{
  "nbformat": 4,
  "nbformat_minor": 0,
  "metadata": {
    "colab": {
      "name": "TGSM.ipynb",
      "provenance": []
    },
    "kernelspec": {
      "name": "python3",
      "display_name": "Python 3"
    },
    "language_info": {
      "name": "python"
    },
    "accelerator": "GPU"
  },
  "cells": [
    {
      "cell_type": "code",
      "execution_count": 1,
      "metadata": {
        "id": "_qo57xzI2dut"
      },
      "outputs": [],
      "source": [
        "import os\n",
        "import numpy as np\n",
        "import matplotlib\n",
        "matplotlib.use('Agg')           \n",
        "import matplotlib.pyplot as plt\n",
        "import matplotlib.gridspec as gridspec\n",
        "import tensorflow as tf\n",
        "from tensorflow import keras\n",
        "\n",
        "input_shape = (28, 28, 1)\n",
        "num_classes = 10\n",
        "VALIDATION_SPLIT = 0.1\n",
        "BATCH_SIZE = 128"
      ]
    },
    {
      "cell_type": "code",
      "source": [
        "print('\\nLoading MNIST')\n",
        "\n",
        "mnist = tf.keras.datasets.mnist\n",
        "(x_train, y_train), (x_test, y_test) = mnist.load_data()\n",
        "\n",
        "x_train = np.expand_dims(x_train, -1)\n",
        "x_train = x_train.astype(np.float32) / 255\n",
        "x_test = np.expand_dims(x_test, -1)\n",
        "x_test = x_test.astype(np.float32) / 255\n",
        "\n",
        "y_train = keras.utils.to_categorical(y_train, num_classes)\n",
        "y_test = keras.utils.to_categorical(y_test, num_classes)\n",
        "\n",
        "print('\\nSpliting data')\n",
        "\n",
        "ind = np.random.permutation(x_train.shape[0])\n",
        "x_train, y_train = x_train[ind], y_train[ind]\n",
        "n = int(x_train.shape[0] * (1-VALIDATION_SPLIT))\n",
        "x_val = x_train[n:]\n",
        "y_val = y_train[n:]\n",
        "x_train = x_train[:n]\n",
        "y_train = y_train[:n]"
      ],
      "metadata": {
        "colab": {
          "base_uri": "https://localhost:8080/"
        },
        "id": "WYvCPQtWnrN8",
        "outputId": "6fc7a030-743b-4e56-f3b7-8048c604296e"
      },
      "execution_count": 2,
      "outputs": [
        {
          "output_type": "stream",
          "name": "stdout",
          "text": [
            "\n",
            "Loading MNIST\n",
            "Downloading data from https://storage.googleapis.com/tensorflow/tf-keras-datasets/mnist.npz\n",
            "11493376/11490434 [==============================] - 0s 0us/step\n",
            "11501568/11490434 [==============================] - 0s 0us/step\n",
            "\n",
            "Spliting data\n"
          ]
        }
      ]
    },
    {
      "cell_type": "code",
      "source": [
        "print('\\nConstructing model')\n",
        "def make_model(input_shape, num_classes, temp=1):\n",
        "    inputs = keras.Input(shape = input_shape)\n",
        "    x = keras.layers.Conv2D(filters=32, kernel_size=(3, 3), padding='same', activation='relu')(inputs)\n",
        "    x = keras.layers.MaxPooling2D(pool_size=(2, 2), strides=2)(x)\n",
        "    x = keras.layers.Conv2D(filters=64, kernel_size=(3, 3), padding='same', activation='relu')(x)\n",
        "    x = keras.layers.MaxPooling2D(pool_size=(2, 2), strides=2)(x)\n",
        "    x = keras.layers.Flatten()(x)\n",
        "    x = keras.layers.Dense(units=128, activation='relu')(x)\n",
        "    x = keras.layers.Dropout(0.25)(x)\n",
        "    outputs = keras.layers.Dense(units=num_classes)(x)\n",
        "    outputs = outputs / temp\n",
        "    outputs = keras.layers.Activation('softmax')(outputs)\n",
        "    return keras.Model(inputs, outputs)"
      ],
      "metadata": {
        "colab": {
          "base_uri": "https://localhost:8080/"
        },
        "id": "6B48ngvhncrX",
        "outputId": "dbfe8762-fcf6-4336-efb2-7f7701bf3547"
      },
      "execution_count": 3,
      "outputs": [
        {
          "output_type": "stream",
          "name": "stdout",
          "text": [
            "\n",
            "Constructing model\n"
          ]
        }
      ]
    },
    {
      "cell_type": "code",
      "source": [
        "model = make_model(input_shape, num_classes)\n",
        "model.compile(optimizer=keras.optimizers.Adam(1e-3), loss=keras.losses.CategoricalCrossentropy(), metrics=['accuracy'])\n",
        "print('\\nTraining model')\n",
        "model.fit(x_train, y_train, batch_size=BATCH_SIZE, epochs=5, validation_data=(x_val, y_val))"
      ],
      "metadata": {
        "colab": {
          "base_uri": "https://localhost:8080/"
        },
        "id": "BV7q9_N5noET",
        "outputId": "fe00ff25-a707-4a89-99a5-60ccdacf3afc"
      },
      "execution_count": 5,
      "outputs": [
        {
          "output_type": "stream",
          "name": "stdout",
          "text": [
            "\n",
            "Training model\n",
            "Epoch 1/5\n",
            "422/422 [==============================] - 7s 15ms/step - loss: 0.2468 - accuracy: 0.9248 - val_loss: 0.0705 - val_accuracy: 0.9768\n",
            "Epoch 2/5\n",
            "422/422 [==============================] - 4s 10ms/step - loss: 0.0702 - accuracy: 0.9792 - val_loss: 0.0486 - val_accuracy: 0.9828\n",
            "Epoch 3/5\n",
            "422/422 [==============================] - 5s 12ms/step - loss: 0.0471 - accuracy: 0.9850 - val_loss: 0.0377 - val_accuracy: 0.9890\n",
            "Epoch 4/5\n",
            "422/422 [==============================] - 5s 12ms/step - loss: 0.0371 - accuracy: 0.9883 - val_loss: 0.0338 - val_accuracy: 0.9887\n",
            "Epoch 5/5\n",
            "422/422 [==============================] - 5s 13ms/step - loss: 0.0299 - accuracy: 0.9902 - val_loss: 0.0360 - val_accuracy: 0.9892\n"
          ]
        },
        {
          "output_type": "execute_result",
          "data": {
            "text/plain": [
              "<keras.callbacks.History at 0x7f4da560aa50>"
            ]
          },
          "metadata": {},
          "execution_count": 5
        }
      ]
    },
    {
      "cell_type": "code",
      "source": [
        "def fgmt(model, x, y=None, eps=0.01, epochs=1, sign=True, clip_min=0.,\n",
        "         clip_max=1.):\n",
        "    \n",
        "    y_pred = model.predict(x)\n",
        "    target = keras.utils.to_categorical(y, num_classes)\n",
        "    if y is None:\n",
        "        indices = tf.argmin(y_pred, axis=1)\n",
        "        target = keras.utils.to_categorical(indices, num_classes)\n",
        "   \n",
        "    x_adv = tf.identity(x)\n",
        "    while epochs > 0:\n",
        "        with tf.GradientTape() as tape:\n",
        "            tape.watch(x_adv)\n",
        "            y_pred = model(x_adv)\n",
        "            loss = tf.keras.losses.CategoricalCrossentropy()(target, y_pred)\n",
        "        grads = tape.gradient(loss, x_adv)\n",
        "        signed_grads = tf.sign(grads)\n",
        "        x_adv = x_adv - eps * signed_grads\n",
        "        epochs -= 1\n",
        "\n",
        "    return x_adv"
      ],
      "metadata": {
        "id": "_cjed2K7nLjh"
      },
      "execution_count": 17,
      "outputs": []
    },
    {
      "cell_type": "code",
      "source": [
        "print(y_train[0])\n",
        "print(model.predict(np.expand_dims(x_train[0], 0)))\n",
        "plt.imshow(x_train[0, :, :, 0], cmap='gray')\n",
        "x_adv = fgmt(model, np.expand_dims(x_train[0],0), [3], epochs=18)\n",
        "print(model.predict(x_adv))"
      ],
      "metadata": {
        "colab": {
          "base_uri": "https://localhost:8080/",
          "height": 350
        },
        "id": "_8xovYwZ12O8",
        "outputId": "c5527f9d-cbcf-49d0-cabc-2dfbc92fbf84"
      },
      "execution_count": 19,
      "outputs": [
        {
          "output_type": "stream",
          "name": "stdout",
          "text": [
            "[0. 0. 1. 0. 0. 0. 0. 0. 0. 0.]\n",
            "[[2.1725659e-12 1.2336783e-09 9.9999988e-01 1.7966677e-11 2.5351095e-15\n",
            "  5.8377445e-20 1.0921835e-18 1.5207171e-07 4.8201443e-14 7.1581522e-19]]\n",
            "[[6.9314754e-12 4.7834692e-04 4.4663334e-03 9.9026835e-01 7.8081784e-11\n",
            "  3.2021991e-10 7.3835042e-11 4.7869035e-03 1.8856248e-09 5.6382702e-12]]\n"
          ]
        },
        {
          "output_type": "display_data",
          "data": {
            "image/png": "[encoded data removed]",
            "text/plain": [
              "<Figure size 432x288 with 1 Axes>"
            ]
          },
          "metadata": {
            "needs_background": "light"
          }
        }
      ]
    },
    {
      "cell_type": "code",
      "source": [
        "plt.imshow(x_adv[0, :, :, 0], cmap='gray')"
      ],
      "metadata": {
        "colab": {
          "base_uri": "https://localhost:8080/",
          "height": 282
        },
        "id": "vm9gqK4WDoqc",
        "outputId": "70482e5b-fa5e-4549-abb7-6be7a4b173cb"
      },
      "execution_count": 20,
      "outputs": [
        {
          "output_type": "execute_result",
          "data": {
            "text/plain": [
              "<matplotlib.image.AxesImage at 0x7f4da791e750>"
            ]
          },
          "metadata": {},
          "execution_count": 20
        },
        {
          "output_type": "display_data",
          "data": {
            "image/png": "[encoded data removed]",
            "text/plain": [
              "<Figure size 432x288 with 1 Axes>"
            ]
          },
          "metadata": {
            "needs_background": "light"
          }
        }
      ]
    },
    {
      "cell_type": "code",
      "source": [
        ""
      ],
      "metadata": {
        "id": "YbMbHax7EZ35"
      },
      "execution_count": null,
      "outputs": []
    }
  ]
}