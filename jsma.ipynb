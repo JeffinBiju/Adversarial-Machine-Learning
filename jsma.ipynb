{
  "nbformat": 4,
  "nbformat_minor": 0,
  "metadata": {
    "colab": {
      "name": "jsma.ipynb",
      "provenance": []
    },
    "kernelspec": {
      "name": "python3",
      "display_name": "Python 3"
    },
    "language_info": {
      "name": "python"
    }
  },
  "cells": [
    {
      "cell_type": "code",
      "execution_count": 1,
      "metadata": {
        "id": "yIBOswHB94Vz"
      },
      "outputs": [],
      "source": [
        "import os\n",
        "import numpy as np\n",
        "import matplotlib\n",
        "matplotlib.use('Agg')           \n",
        "import matplotlib.pyplot as plt\n",
        "import matplotlib.gridspec as gridspec\n",
        "import tensorflow as tf\n",
        "from tensorflow import keras\n",
        "\n",
        "input_shape = (28, 28, 1)\n",
        "num_classes = 10\n",
        "VALIDATION_SPLIT = 0.1\n",
        "BATCH_SIZE = 128"
      ]
    },
    {
      "cell_type": "code",
      "source": [
        "print('\\nLoading MNIST')\n",
        "\n",
        "mnist = tf.keras.datasets.mnist\n",
        "(x_train, y_train), (x_test, y_test) = mnist.load_data()\n",
        "\n",
        "x_train = np.expand_dims(x_train, -1)\n",
        "x_train = x_train.astype(np.float32) / 255\n",
        "x_test = np.expand_dims(x_test, -1)\n",
        "x_test = x_test.astype(np.float32) / 255\n",
        "\n",
        "mnist_twos = x_train[np.where(y_train == 2)][:10]\n",
        "\n",
        "y_train = keras.utils.to_categorical(y_train, num_classes)\n",
        "y_test = keras.utils.to_categorical(y_test, num_classes)\n",
        "\n",
        "print('\\nSpliting data')\n",
        "\n",
        "ind = np.random.permutation(x_train.shape[0])\n",
        "x_train, y_train = x_train[ind], y_train[ind]\n",
        "n = int(x_train.shape[0] * (1-VALIDATION_SPLIT))\n",
        "x_train = x_train[:n]\n",
        "y_train = y_train[:n]\n",
        "x_val = x_train[n:]\n",
        "y_val = y_train[n:]"
      ],
      "metadata": {
        "colab": {
          "base_uri": "https://localhost:8080/"
        },
        "id": "qXrLKB9p-TzM",
        "outputId": "364f562d-5db4-405d-b1fc-950580c12a58"
      },
      "execution_count": 15,
      "outputs": [
        {
          "output_type": "stream",
          "name": "stdout",
          "text": [
            "\n",
            "Loading MNIST\n",
            "\n",
            "Spliting data\n"
          ]
        }
      ]
    },
    {
      "cell_type": "code",
      "source": [
        "print('\\nConstructing model')\n",
        "def make_model(input_shape, num_classes):\n",
        "    inputs = keras.Input(shape = input_shape)\n",
        "    x = keras.layers.Conv2D(filters=32, kernel_size=(3, 3), padding='same', activation='relu')(inputs)\n",
        "    x = keras.layers.MaxPooling2D(pool_size=(2, 2), strides=2)(x)\n",
        "    x = keras.layers.Conv2D(filters=64, kernel_size=(3, 3), padding='same', activation='relu')(x)\n",
        "    x = keras.layers.MaxPooling2D(pool_size=(2, 2), strides=2)(x)\n",
        "    x = keras.layers.Flatten()(x)\n",
        "    x = keras.layers.Dense(units=128, activation='relu')(x)\n",
        "    x = keras.layers.Dropout(0.25)(x)\n",
        "    outputs = keras.layers.Dense(units=num_classes)(x)\n",
        "    #outputs = keras.layers.Activation('relu')\n",
        "    return keras.Model(inputs, outputs)"
      ],
      "metadata": {
        "colab": {
          "base_uri": "https://localhost:8080/"
        },
        "id": "-8yP_Fpd-YY8",
        "outputId": "989ad70c-fb35-4512-ebbe-97f9b50c0302"
      },
      "execution_count": 3,
      "outputs": [
        {
          "output_type": "stream",
          "name": "stdout",
          "text": [
            "\n",
            "Constructing model\n"
          ]
        }
      ]
    },
    {
      "cell_type": "code",
      "source": [
        "model = make_model(input_shape, num_classes)\n",
        "model.compile(optimizer=keras.optimizers.Adam(1e-3), loss=keras.losses.CategoricalCrossentropy(from_logits=True), metrics=['accuracy'])\n",
        "print('\\nTraining model')\n",
        "model.fit(x_train, y_train, batch_size=BATCH_SIZE, epochs=5, validation_data=(x_val, y_val))"
      ],
      "metadata": {
        "colab": {
          "base_uri": "https://localhost:8080/"
        },
        "id": "GcSBur1N-cgL",
        "outputId": "4b8cb009-9c09-4ec5-91ed-ccd12bfdecdd"
      },
      "execution_count": 4,
      "outputs": [
        {
          "output_type": "stream",
          "name": "stdout",
          "text": [
            "\n",
            "Training model\n",
            "Epoch 1/5\n",
            "422/422 [==============================] - 56s 132ms/step - loss: 0.2447 - accuracy: 0.9253\n",
            "Epoch 2/5\n",
            "422/422 [==============================] - 54s 129ms/step - loss: 0.0663 - accuracy: 0.9796\n",
            "Epoch 3/5\n",
            "422/422 [==============================] - 55s 129ms/step - loss: 0.0459 - accuracy: 0.9860\n",
            "Epoch 4/5\n",
            "422/422 [==============================] - 54s 129ms/step - loss: 0.0366 - accuracy: 0.9892\n",
            "Epoch 5/5\n",
            "422/422 [==============================] - 54s 129ms/step - loss: 0.0297 - accuracy: 0.9906\n"
          ]
        },
        {
          "output_type": "execute_result",
          "data": {
            "text/plain": [
              "<keras.callbacks.History at 0x7f74caaaac90>"
            ]
          },
          "metadata": {},
          "execution_count": 4
        }
      ]
    },
    {
      "cell_type": "code",
      "source": [
        "def saliency_map(X, dtdx, dodx, eps, cmin, cmax):\n",
        "  \"\"\"\n",
        "  Saliency map function that returns score for each input dimension.\n",
        "  \"\"\"\n",
        "  # Check initial conditions.\n",
        "  c1 = tf.logical_or(eps < 0, X < cmax)\n",
        "  c2 = tf.logical_or(eps > 0, X > cmin)\n",
        "  \n",
        "  # Check saliency map conditions.\n",
        "  c3 = dtdx >= 0\n",
        "  c4 = dodx <= 0\n",
        "  \n",
        "  # Get 1D score by doing logical AND between conditions.\n",
        "  cond = tf.cast(tf.reduce_all([c1, c2, c3, c4], axis=0),dtype=tf.float32)\n",
        "  \n",
        "  score = cond * (dtdx * tf.abs(dodx))\n",
        "  \n",
        "  # Return score for each pixel\n",
        "  score = tf.reshape(score, shape=[1, 784])\n",
        "  \n",
        "  return score"
      ],
      "metadata": {
        "id": "t7qG1AyGAvVe"
      },
      "execution_count": 89,
      "outputs": []
    },
    {
      "cell_type": "code",
      "source": [
        "def jacobian_matrix(x, n_class):\n",
        "  \"\"\"\n",
        "  Calculate jacobian of logits wrt input.\n",
        "  \"\"\"\n",
        "  \n",
        "  #print(\"jacobian_matrix\", x.shape)\n",
        "  x = tf.Variable(x)\n",
        "  j = []\n",
        "  for i in range(n_class):\n",
        "    with tf.GradientTape() as gtape:\n",
        "      gtape.watch(x)\n",
        "      y_ = model(x)[0][i]\n",
        "    \n",
        "    if(i == 0):\n",
        "      j.append(gtape.gradient(y_,x))\n",
        "      #print(j)\n",
        "    else: \n",
        "      j.append(gtape.gradient(y_,x))\n",
        "\n",
        "  tf_matrix = j[0]\n",
        "  for i in range(1,10):\n",
        "    tf_matrix = tf.concat([tf_matrix, j[i]],axis = 0)\n",
        "  return tf_matrix\n",
        "  '''  \n",
        "    if(i == 0):\n",
        "      j = gtape.gradient(y_,x)\n",
        "      print(gtape.gradient(y_,x))\n",
        "    else: \n",
        "      j.concat([j,gtape.gradient(y[i],x)],axis = 0)\n",
        "\n",
        "  with tf.GradientTape as gtape:\n",
        "    for i in range(n_class):\n",
        "        if i==0:\n",
        "            j = gtape.gradient(y[i], x)\n",
        "        else:\n",
        "            j = tf.concat([j, gtape.gradient(y[i], x)],axis=0)\n",
        "  '''\n",
        "  #return j"
      ],
      "metadata": {
        "id": "NPaNASfUB9lY"
      },
      "execution_count": 90,
      "outputs": []
    },
    {
      "cell_type": "code",
      "source": [
        "def jsma(X_adv, target_y, eps, cmin=0.0, cmax=1.0):\n",
        "  \n",
        "  \"\"\"\n",
        "  Implementation of JSMA method to generate adversarial images.\n",
        "  \"\"\"\n",
        "  #print(\"jsma => \" , X_adv.shape)\n",
        "  # Get model logits and probs for the input.\n",
        "  logits = model.predict(np.expand_dims(X_adv,axis = 0))\n",
        "  \n",
        "  # Get model prediction for inputs.\n",
        "  y_ind = np.argmax(logits)\n",
        "  \n",
        "  # Calculate jacobian matrix of logits wrt to input.\n",
        "  jacobian = jacobian_matrix(np.expand_dims(X_adv,axis = 0), 10)\n",
        "\n",
        "  # Get the gradient of logits wrt to prediction and target.\n",
        "  grad_input, grad_target = jacobian[y_ind], jacobian[target_y]\n",
        "  grad_other = grad_input - grad_target\n",
        "  \n",
        "  # Compute saliency score for each dimension.\n",
        "  score = saliency_map(X_adv, grad_target, grad_other, eps, cmin, cmax)\n",
        "\n",
        "  # Select dimension of input and apply epsilon value.\n",
        "  idx = tf.argmax(score, axis=1)\n",
        "  pert = tf.one_hot(idx, 784, on_value=eps, off_value=0.0)\n",
        "  pert = tf.reshape(pert, shape=tf.shape(X_adv))\n",
        "\n",
        "  X_adv = tf.clip_by_value(X_adv + pert, cmin, cmax)\n",
        "\n",
        "  return X_adv, pert"
      ],
      "metadata": {
        "id": "IKW-426HCVuI"
      },
      "execution_count": 91,
      "outputs": []
    },
    {
      "cell_type": "code",
      "source": [
        "def generate_jsma(X, target, eps=1.0, epochs=50):\n",
        "  \"\"\"\n",
        "  Run JSMA on input image for `epochs` number of times.\n",
        "  \"\"\"\n",
        "  print(\"lala\")\n",
        "  #tf.reset_default_graph()\n",
        "  #tf.set_random_seed(42)\n",
        "  \n",
        "  # Placeholder for single image.\n",
        "  #X_p = tf.placeholder(shape=[28, 28, 1], dtype=tf.float32)\n",
        "  \n",
        "  # Op for one iteration of jsma.\n",
        "  adv_op,_ = jsma(X, target_y=target,eps=eps)\n",
        "\n",
        "  digit = X.reshape(28,28,1)\n",
        "\n",
        "  for i in range(1,epochs):\n",
        "    digit,pert_iter = jsma(digit,target,eps)\n",
        "  pert = digit - X\n",
        "  \n",
        "  tf.reshape(digit,(28,28))\n",
        "  tf.reshape(pert,(28,28))\n",
        "  return digit, pert\n",
        "'''\n",
        "  with tf.Session() as sess:\n",
        "    tf.train.Saver().restore(sess, \"model.ckpt\")\n",
        "    for i in range(epochs):\n",
        "      \n",
        "      digit, pert_iter = sess.run(adv_op, {X_p: digit})\n",
        "  '''   \n",
        "\n",
        "\n"
      ],
      "metadata": {
        "colab": {
          "base_uri": "https://localhost:8080/",
          "height": 54
        },
        "id": "_xZkbRgbFFEz",
        "outputId": "c90976e6-50de-4de6-e7b6-fc6292cecd60"
      },
      "execution_count": 100,
      "outputs": [
        {
          "output_type": "execute_result",
          "data": {
            "application/vnd.google.colaboratory.intrinsic+json": {
              "type": "string"
            },
            "text/plain": [
              "'\\n  with tf.Session() as sess:\\n    tf.train.Saver().restore(sess, \"model.ckpt\")\\n    for i in range(epochs):\\n      \\n      digit, pert_iter = sess.run(adv_op, {X_p: digit})\\n  '"
            ]
          },
          "metadata": {},
          "execution_count": 100
        }
      ]
    },
    {
      "cell_type": "code",
      "source": [
        "print(mnist_twos.shape)"
      ],
      "metadata": {
        "colab": {
          "base_uri": "https://localhost:8080/"
        },
        "id": "d-mrK7pG9J2R",
        "outputId": "b4590f78-01e8-4440-acad-1a106a6ad4b1"
      },
      "execution_count": 19,
      "outputs": [
        {
          "output_type": "stream",
          "name": "stdout",
          "text": [
            "(10, 28, 28, 1)\n"
          ]
        }
      ]
    },
    {
      "cell_type": "code",
      "source": [
        "advs_jsma, perts_jsma = [], []\n",
        "for imgs in mnist_twos:\n",
        "  #print(imgs.shape)\n",
        "  digit,pert = generate_jsma(\n",
        "                        imgs,\n",
        "                        target=6,\n",
        "                        eps=1.0,\n",
        "                        epochs=100)\n",
        "  advs_jsma.append(digit)\n",
        "  perts_jsma.append(pert)"
      ],
      "metadata": {
        "colab": {
          "base_uri": "https://localhost:8080/"
        },
        "id": "J5SXbhzBCNjT",
        "outputId": "fa1ecc73-8160-4be9-aee8-34fc875d8ede"
      },
      "execution_count": 113,
      "outputs": [
        {
          "output_type": "stream",
          "name": "stdout",
          "text": [
            "lala\n",
            "lala\n",
            "lala\n",
            "lala\n",
            "lala\n",
            "lala\n",
            "lala\n",
            "lala\n",
            "lala\n",
            "lala\n"
          ]
        }
      ]
    },
    {
      "cell_type": "code",
      "source": [
        "x = x_train[0]\n",
        "print(np.expand_dims(x,axis = 0).shape)\n",
        "print(model(np.expand_dims(x,axis = 0)))\n",
        "y = np.array([1,1])\n",
        "mat = jacobian_matrix(y,np.expand_dims(x,axis = 0),10)\n",
        "print(mat.shape)\n"
      ],
      "metadata": {
        "colab": {
          "base_uri": "https://localhost:8080/"
        },
        "id": "JnaEud02IH_k",
        "outputId": "fbb3de8e-c0bf-4373-8dc8-e69d03216bc3"
      },
      "execution_count": 55,
      "outputs": [
        {
          "output_type": "stream",
          "name": "stdout",
          "text": [
            "(1, 28, 28, 1)\n",
            "tf.Tensor(\n",
            "[[ 1.0818776 -3.505971  -4.2537713 -4.7047267 13.570954  -2.2810957\n",
            "   1.6915368  1.3996876 -3.131057   3.7082984]], shape=(1, 10), dtype=float32)\n",
            "jacobian_matrix (1, 28, 28, 1) (2,)\n",
            "(10, 28, 28, 1)\n"
          ]
        }
      ]
    },
    {
      "cell_type": "code",
      "source": [
        "def plot_adversarials(origs, perturbs, advs , orig_preds, orig_probs, adv_probs, adv_preds, eps):\n",
        "  \"\"\"\n",
        "  Function to plot original input, perturbation and adversarial inputs.\n",
        "  \"\"\"\n",
        "  fig, axes = plt.subplots(ncols=3, nrows=10, figsize=(18,18))\n",
        "\n",
        "  for i in range(10):\n",
        "\n",
        "      confidence = str(round(orig_probs[i],2))\n",
        "      pixels = origs[i].reshape((28, 28))\n",
        "      axes[i][0].imshow(pixels, cmap='gray')\n",
        "      axes[i][0].set_axis_off()\n",
        "      title = 'Original\\n Predicted: {0} Confidence: {1}' if i==0 else 'Predicted: {0} Confidence: {1}'\n",
        "      axes[i][0].set_title(title.format(orig_preds[i], confidence))\n",
        "\n",
        "      pixels = perturbs[i].reshape((28, 28))\n",
        "      axes[i][1].imshow(pixels, cmap='gray')\n",
        "      axes[i][1].set_axis_off()\n",
        "      title = 'Perturbations\\n Epsilon: {}' if i==0 else 'Epsilon: {}'\n",
        "      axes[i][1].set_title(title.format(eps))\n",
        "\n",
        "      confidence = str(round(adv_probs[i],2))\n",
        "      pixels = advs[i].reshape((28, 28))\n",
        "      axes[i][2].imshow(pixels, cmap='gray')\n",
        "      axes[i][2].set_axis_off()\n",
        "      title = 'Adversarial\\n Predicted: {0} Confidence: {1}' if i==0 else 'Predicted: {0} Confidence: {1}'\n",
        "      axes[i][2].set_title(title.format(\n",
        "          adv_preds[i], confidence))\n",
        "\n",
        "#   plt.subplots_adjust(wspace=0.1, hspace=0.9)\n",
        "#   fig.set_size_inches(np.array(fig.get_size_inches()) * 3)\n",
        "  plt.show()\n"
      ],
      "metadata": {
        "id": "a0XLRZ1bNeew"
      },
      "execution_count": 76,
      "outputs": []
    },
    {
      "cell_type": "code",
      "source": [
        "preds_jsma = model.predict(np.array(advs_jsma).reshape(10,28,28,1))\n",
        "print(preds_jsma[0])\n",
        "print(model.predict(np.expand_dims(mnist_twos[0],axis = 0)))\n",
        "plt.imshow(mnist_twos[0,:,:,0])\n",
        "#advs_jsma = np.array(advs_jsma[0])\n",
        "print(advs_jsma[0].shape)\n",
        "\n",
        "plt.imshow(advs_jsma[0][:,:,0])\n"
      ],
      "metadata": {
        "colab": {
          "base_uri": "https://localhost:8080/",
          "height": 375
        },
        "id": "WXBNGDbOOSJE",
        "outputId": "a6ffd5d5-427b-4a2a-86e7-cec00b338443"
      },
      "execution_count": 117,
      "outputs": [
        {
          "output_type": "stream",
          "name": "stdout",
          "text": [
            "[ 2.8710966 -7.814224   4.856492  -4.0816364  4.116711  -2.1451662\n",
            "  7.33809   -8.50726    6.927385  -1.7684724]\n",
            "[[-1.682758   -2.3387609  16.272118   -0.19573632 -3.5396655  -7.654407\n",
            "  -5.957539    1.7568089   2.9967253  -3.9455683 ]]\n",
            "(28, 28, 1)\n"
          ]
        },
        {
          "output_type": "execute_result",
          "data": {
            "text/plain": [
              "<matplotlib.image.AxesImage at 0x7f74ce220910>"
            ]
          },
          "metadata": {},
          "execution_count": 117
        },
        {
          "output_type": "display_data",
          "data": {
            "image/png": "[encoded data removed]",
            "text/plain": [
              "<Figure size 432x288 with 1 Axes>"
            ]
          },
          "metadata": {
            "needs_background": "light"
          }
        }
      ]
    }
  ]
}