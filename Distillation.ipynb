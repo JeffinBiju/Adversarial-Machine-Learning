{
  "nbformat": 4,
  "nbformat_minor": 0,
  "metadata": {
    "colab": {
      "name": "Distillation.ipynb",
      "provenance": []
    },
    "kernelspec": {
      "name": "python3",
      "display_name": "Python 3"
    },
    "language_info": {
      "name": "python"
    },
    "accelerator": "GPU"
  },
  "cells": [
    {
      "cell_type": "code",
      "execution_count": 4,
      "metadata": {
        "id": "OoX5QZHOHjDb"
      },
      "outputs": [],
      "source": [
        "import os\n",
        "import numpy as np\n",
        "import matplotlib\n",
        "matplotlib.use('Agg')           \n",
        "import matplotlib.pyplot as plt\n",
        "import matplotlib.gridspec as gridspec\n",
        "import tensorflow as tf\n",
        "from tensorflow import keras\n",
        "\n",
        "input_shape = (28, 28, 1)\n",
        "num_classes = 10\n",
        "VALIDATION_SPLIT = 0.1\n",
        "BATCH_SIZE = 128"
      ]
    },
    {
      "cell_type": "code",
      "source": [
        "print('\\nLoading MNIST')\n",
        "\n",
        "mnist = tf.keras.datasets.mnist\n",
        "(x_train, y_train), (x_test, y_test) = mnist.load_data()\n",
        "\n",
        "x_train = np.expand_dims(x_train, -1)\n",
        "x_train = x_train.astype(np.float32) / 255\n",
        "x_test = np.expand_dims(x_test, -1)\n",
        "x_test = x_test.astype(np.float32) / 255\n",
        "\n",
        "y_train = keras.utils.to_categorical(y_train, num_classes)\n",
        "y_test = keras.utils.to_categorical(y_test, num_classes)\n",
        "\n",
        "print('\\nSpliting data')\n",
        "\n",
        "ind = np.random.permutation(x_train.shape[0])\n",
        "x_train, y_train = x_train[ind], y_train[ind]\n",
        "n = int(x_train.shape[0] * (1-VALIDATION_SPLIT))\n",
        "x_val = x_train[n:]\n",
        "y_val = y_train[n:]\n",
        "x_train = x_train[:n]\n",
        "y_train = y_train[:n]"
      ],
      "metadata": {
        "colab": {
          "base_uri": "https://localhost:8080/"
        },
        "id": "H9r-zficHujq",
        "outputId": "66f35799-42a8-4f12-d2bf-503843410497"
      },
      "execution_count": 36,
      "outputs": [
        {
          "output_type": "stream",
          "name": "stdout",
          "text": [
            "\n",
            "Loading MNIST\n",
            "\n",
            "Spliting data\n"
          ]
        }
      ]
    },
    {
      "cell_type": "code",
      "source": [
        "print(x_train.shape)\n",
        "print(x_val.shape)"
      ],
      "metadata": {
        "colab": {
          "base_uri": "https://localhost:8080/"
        },
        "id": "kC2f-uJcjb3y",
        "outputId": "748f6723-da17-4349-c552-54ec41caece4"
      },
      "execution_count": 37,
      "outputs": [
        {
          "output_type": "stream",
          "name": "stdout",
          "text": [
            "(54000, 28, 28, 1)\n",
            "(6000, 28, 28, 1)\n"
          ]
        }
      ]
    },
    {
      "cell_type": "code",
      "source": [
        "print('\\nConstructing model')\n",
        "def make_model(input_shape, num_classes, temp=1):\n",
        "    inputs = keras.Input(shape = input_shape)\n",
        "    x = keras.layers.Conv2D(filters=32, kernel_size=(3, 3), padding='same', activation='relu')(inputs)\n",
        "    x = keras.layers.MaxPooling2D(pool_size=(2, 2), strides=2)(x)\n",
        "    x = keras.layers.Conv2D(filters=64, kernel_size=(3, 3), padding='same', activation='relu')(x)\n",
        "    x = keras.layers.MaxPooling2D(pool_size=(2, 2), strides=2)(x)\n",
        "    x = keras.layers.Flatten()(x)\n",
        "    x = keras.layers.Dense(units=128, activation='relu')(x)\n",
        "    x = keras.layers.Dropout(0.25)(x)\n",
        "    outputs = keras.layers.Dense(units=num_classes)(x)\n",
        "    outputs = outputs / temp\n",
        "    outputs = keras.layers.Activation('softmax')(outputs)\n",
        "    return keras.Model(inputs, outputs)"
      ],
      "metadata": {
        "colab": {
          "base_uri": "https://localhost:8080/"
        },
        "id": "gt7X3HxreYEv",
        "outputId": "a788c3c5-25b4-46a3-f701-77eb363f27bc"
      },
      "execution_count": 53,
      "outputs": [
        {
          "output_type": "stream",
          "name": "stdout",
          "text": [
            "\n",
            "Constructing model\n"
          ]
        }
      ]
    },
    {
      "cell_type": "code",
      "source": [
        "model1 = make_model(input_shape, num_classes, temp=20)\n",
        "model1.compile(optimizer=keras.optimizers.Adam(1e-3), loss=keras.losses.CategoricalCrossentropy(), metrics=['accuracy'])\n",
        "print('\\nTraining model')\n",
        "model1.fit(x_train, y_train, batch_size=BATCH_SIZE, epochs=5, validation_data=(x_val, y_val))"
      ],
      "metadata": {
        "colab": {
          "base_uri": "https://localhost:8080/"
        },
        "id": "6H5Dn16YeaMn",
        "outputId": "da75893e-9ead-490a-b150-8e7f1aa38e71"
      },
      "execution_count": 59,
      "outputs": [
        {
          "output_type": "stream",
          "name": "stdout",
          "text": [
            "\n",
            "Training model\n",
            "Epoch 1/5\n",
            "422/422 [==============================] - 3s 6ms/step - loss: 0.4609 - accuracy: 0.8601 - val_loss: 0.1336 - val_accuracy: 0.9612\n",
            "Epoch 2/5\n",
            "422/422 [==============================] - 2s 6ms/step - loss: 0.1274 - accuracy: 0.9619 - val_loss: 0.0825 - val_accuracy: 0.9757\n",
            "Epoch 3/5\n",
            "422/422 [==============================] - 2s 6ms/step - loss: 0.0885 - accuracy: 0.9727 - val_loss: 0.0673 - val_accuracy: 0.9793\n",
            "Epoch 4/5\n",
            "422/422 [==============================] - 2s 6ms/step - loss: 0.0721 - accuracy: 0.9782 - val_loss: 0.0601 - val_accuracy: 0.9817\n",
            "Epoch 5/5\n",
            "422/422 [==============================] - 2s 6ms/step - loss: 0.0587 - accuracy: 0.9813 - val_loss: 0.0524 - val_accuracy: 0.9842\n"
          ]
        },
        {
          "output_type": "execute_result",
          "data": {
            "text/plain": [
              "<keras.callbacks.History at 0x7fd028cc0cd0>"
            ]
          },
          "metadata": {},
          "execution_count": 59
        }
      ]
    },
    {
      "cell_type": "code",
      "source": [
        "y_hat = model1.predict(x_train)\n",
        "model2 = make_model(input_shape, num_classes, temp=20)\n",
        "model2.compile(optimizer=keras.optimizers.Adam(1e-3), loss=keras.losses.CategoricalCrossentropy(), metrics=['accuracy'])\n",
        "print('\\nTraining model')\n",
        "model2.fit(x_train, y_hat, batch_size=BATCH_SIZE, epochs=5, validation_data=(x_val, y_val))"
      ],
      "metadata": {
        "colab": {
          "base_uri": "https://localhost:8080/"
        },
        "id": "2z4zP0sRleMV",
        "outputId": "276400bc-8695-4a7f-f074-33d39ca6bffb"
      },
      "execution_count": 61,
      "outputs": [
        {
          "output_type": "stream",
          "name": "stdout",
          "text": [
            "\n",
            "Training model\n",
            "Epoch 1/5\n",
            "422/422 [==============================] - 3s 6ms/step - loss: 0.4359 - accuracy: 0.8726 - val_loss: 0.1309 - val_accuracy: 0.9607\n",
            "Epoch 2/5\n",
            "422/422 [==============================] - 2s 6ms/step - loss: 0.1154 - accuracy: 0.9708 - val_loss: 0.0850 - val_accuracy: 0.9742\n",
            "Epoch 3/5\n",
            "422/422 [==============================] - 3s 6ms/step - loss: 0.0867 - accuracy: 0.9813 - val_loss: 0.0680 - val_accuracy: 0.9820\n",
            "Epoch 4/5\n",
            "422/422 [==============================] - 2s 6ms/step - loss: 0.0771 - accuracy: 0.9854 - val_loss: 0.0612 - val_accuracy: 0.9810\n",
            "Epoch 5/5\n",
            "422/422 [==============================] - 2s 6ms/step - loss: 0.0723 - accuracy: 0.9877 - val_loss: 0.0617 - val_accuracy: 0.9825\n"
          ]
        },
        {
          "output_type": "execute_result",
          "data": {
            "text/plain": [
              "<keras.callbacks.History at 0x7fd02892a850>"
            ]
          },
          "metadata": {},
          "execution_count": 61
        }
      ]
    }
  ]
}